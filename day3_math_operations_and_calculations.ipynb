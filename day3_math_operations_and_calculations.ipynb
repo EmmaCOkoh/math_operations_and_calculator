{
 "cells": [
  {
   "cell_type": "code",
   "execution_count": 5,
   "id": "11b8eb24-7daf-4c77-94fc-542e0bdec605",
   "metadata": {},
   "outputs": [
    {
     "name": "stdout",
     "output_type": "stream",
     "text": [
      "7\n",
      "5\n",
      "12\n",
      "4.0\n",
      "8\n",
      "1\n"
     ]
    }
   ],
   "source": [
    "print(3+4)\n",
    "print(10-5)\n",
    "print(6*2)\n",
    "print(8/2)\n",
    "print(2**3)\n",
    "print(10%3)"
   ]
  },
  {
   "cell_type": "markdown",
   "id": "4b52e99d-a371-45ba-a015-26c0ede8db6e",
   "metadata": {},
   "source": [
    "### Using Variables in Math"
   ]
  },
  {
   "cell_type": "code",
   "execution_count": 9,
   "id": "e737ba41-c2a1-4253-944b-6cf8ce1339c3",
   "metadata": {},
   "outputs": [
    {
     "name": "stdout",
     "output_type": "stream",
     "text": [
      "sum: 24\n",
      "product: 80\n",
      "a to the power of b: 160000\n"
     ]
    }
   ],
   "source": [
    "a=20\n",
    "b=4\n",
    "\n",
    "sum_result = a+b\n",
    "product = a * b\n",
    "power = a ** b \n",
    "\n",
    "print(\"sum:\", sum_result)\n",
    "print(\"product:\", product)\n",
    "print(\"a to the power of b:\", power)"
   ]
  },
  {
   "cell_type": "markdown",
   "id": "cede6a13-cfe4-43db-9399-270c433de3d5",
   "metadata": {},
   "source": [
    "### User Input with input ()"
   ]
  },
  {
   "cell_type": "code",
   "execution_count": 3,
   "id": "36ae3554-fd5f-4447-8d1b-0d08f486eb41",
   "metadata": {},
   "outputs": [
    {
     "name": "stdin",
     "output_type": "stream",
     "text": [
      "What is your name? Emmanuel Okoh\n"
     ]
    },
    {
     "name": "stdout",
     "output_type": "stream",
     "text": [
      "Hello, Emmanuel Okoh!\n"
     ]
    }
   ],
   "source": [
    "name = input(\"What is your name?\")\n",
    "print(\"Hello, \" + name + \"!\")"
   ]
  },
  {
   "cell_type": "markdown",
   "id": "52bc2689-67c3-44cb-9c55-bfe2b4835dd7",
   "metadata": {},
   "source": [
    "### Practice 1: Basic Math"
   ]
  },
  {
   "cell_type": "code",
   "execution_count": 3,
   "id": "786c17c5-0956-4756-89cd-7694d1243cdf",
   "metadata": {},
   "outputs": [
    {
     "name": "stdout",
     "output_type": "stream",
     "text": [
      "sum: 5\n",
      "product: 6\n",
      "reminder when dividing: 1\n",
      "a to the power of b: 9\n"
     ]
    }
   ],
   "source": [
    "a = 3\n",
    "b = 2\n",
    "\n",
    "sum_result = a + b\n",
    "product = a * b\n",
    "remainder = a % b\n",
    "power = a ** b\n",
    "\n",
    "print(\"sum:\", sum_result)\n",
    "print(\"product:\", product)\n",
    "print(\"reminder when dividing:\", remainder)\n",
    "print(\"a to the power of b:\", power)"
   ]
  },
  {
   "cell_type": "markdown",
   "id": "bfc9946e-2ac9-4e18-afc0-d8b395b3a223",
   "metadata": {},
   "source": [
    "### Ask the User"
   ]
  },
  {
   "cell_type": "code",
   "execution_count": 2,
   "id": "d5cce75c-b770-4c63-bd95-1ea3c2758c83",
   "metadata": {},
   "outputs": [
    {
     "name": "stdin",
     "output_type": "stream",
     "text": [
      "How old are you? 15\n"
     ]
    },
    {
     "name": "stdout",
     "output_type": "stream",
     "text": [
      "In 5 years, you will be 20\n"
     ]
    }
   ],
   "source": [
    "age  = int(input(\"How old are you?\"))\n",
    "future_age = age + 5\n",
    "print(\"In 5 years, you will be\", future_age)"
   ]
  },
  {
   "cell_type": "markdown",
   "id": "3aa7d8c3-d9c5-4e26-a464-acb5f339df48",
   "metadata": {},
   "source": [
    "### Practice 3: Simple Calculator"
   ]
  },
  {
   "cell_type": "code",
   "execution_count": 5,
   "id": "6f71f348-b4b0-4719-9b60-91946a2c7c9a",
   "metadata": {},
   "outputs": [
    {
     "name": "stdin",
     "output_type": "stream",
     "text": [
      "Enter first number:  6\n",
      "Enter second number:  2\n"
     ]
    },
    {
     "name": "stdout",
     "output_type": "stream",
     "text": [
      "Addition: 8.0\n",
      "Substraction: 4.0\n",
      "Multiplcation 12.0\n",
      "Division 3.0\n"
     ]
    }
   ],
   "source": [
    "### Ask the user for two numbers\n",
    "num1 = float(input(\"Enter first number: \"))\n",
    "num2 = float(input(\"Enter second number: \"))\n",
    "\n",
    "### Do the math\n",
    "print(\"Addition:\", num1 + num2)\n",
    "print(\"Substraction:\", num1 - num2)\n",
    "print(\"Multiplcation\", num1 * num2)\n",
    "print(\"Division\", num1 / num2)"
   ]
  },
  {
   "cell_type": "markdown",
   "id": "5a37e891-f188-4cdb-914c-8a65a652fffe",
   "metadata": {},
   "source": [
    "### Percentage Calculator"
   ]
  },
  {
   "cell_type": "code",
   "execution_count": 8,
   "id": "6b6b2565-71a4-40a3-b3f8-09cba8573038",
   "metadata": {},
   "outputs": [
    {
     "name": "stdin",
     "output_type": "stream",
     "text": [
      "Enter a number:  2\n",
      "What percentage of it  do you want?  10\n"
     ]
    },
    {
     "name": "stdout",
     "output_type": "stream",
     "text": [
      "10.0 % of 2.0 is 0.2\n"
     ]
    }
   ],
   "source": [
    "number = float(input(\"Enter a number: \"))\n",
    "percent = float(input(\"What percentage of it  do you want? \"))\n",
    "\n",
    "result = (percent / 100) * number\n",
    "print(percent, \"% of\", number, \"is\", result)"
   ]
  },
  {
   "cell_type": "code",
   "execution_count": null,
   "id": "7f8a1a73-86cf-4b27-bb86-89430fbd19be",
   "metadata": {},
   "outputs": [],
   "source": []
  }
 ],
 "metadata": {
  "kernelspec": {
   "display_name": "Python 3 (ipykernel)",
   "language": "python",
   "name": "python3"
  },
  "language_info": {
   "codemirror_mode": {
    "name": "ipython",
    "version": 3
   },
   "file_extension": ".py",
   "mimetype": "text/x-python",
   "name": "python",
   "nbconvert_exporter": "python",
   "pygments_lexer": "ipython3",
   "version": "3.12.3"
  }
 },
 "nbformat": 4,
 "nbformat_minor": 5
}
